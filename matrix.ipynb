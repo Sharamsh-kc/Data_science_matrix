{
 "cells": [
  {
   "cell_type": "markdown",
   "metadata": {},
   "source": [
    "# Matrix Operation"
   ]
  },
  {
   "cell_type": "markdown",
   "metadata": {},
   "source": [
    "A=[[2    -1], [​0    3​]]\n",
    "B=[[1   ​ 2], [-3      4​]]"
   ]
  },
  {
   "cell_type": "code",
   "execution_count": 1,
   "metadata": {},
   "outputs": [],
   "source": [
    "import numpy as np"
   ]
  },
  {
   "cell_type": "code",
   "execution_count": 4,
   "metadata": {},
   "outputs": [
    {
     "name": "stdout",
     "output_type": "stream",
     "text": [
      "Addition of Matrixes A and B\n",
      "[[ 3  1]\n",
      " [-3  7]]\n",
      "Dot product of Matrixes A and B\n",
      "[[ 5  0]\n",
      " [-9 12]]\n",
      "3A-2B\n",
      "[[ 4 -7]\n",
      " [ 6  1]]\n"
     ]
    }
   ],
   "source": [
    "A = np.array([\n",
    "    [2, -1],\n",
    "    [0, 3]\n",
    "])\n",
    "B = np.array([\n",
    "    [1,2],\n",
    "    [-3,4]\n",
    "])\n",
    "C = A+B #Addition\n",
    "print(\"Addition of Matrixes A and B\")\n",
    "print(C)\n",
    "C= A.dot(B) #Dot_product\n",
    "print(\"Dot product of Matrixes A and B\")\n",
    "print(C)\n",
    "print(\"3A-2B\")\n",
    "C = (3*A)-(2*B)\n",
    "print(C)\n",
    "\n",
    "\n"
   ]
  },
  {
   "cell_type": "markdown",
   "metadata": {},
   "source": [
    "#  Determinants and Inverses  "
   ]
  },
  {
   "cell_type": "code",
   "execution_count": 13,
   "metadata": {},
   "outputs": [
    {
     "name": "stdout",
     "output_type": "stream",
     "text": [
      "Determinant of A: -18\n",
      "Matrix A is invertible.\n",
      "[[ 0.05555556 -0.27777778  0.38888889]\n",
      " [-0.27777778  0.38888889  0.05555556]\n",
      " [ 0.38888889  0.05555556 -0.27777778]]\n"
     ]
    }
   ],
   "source": [
    "A = np.array([[2, 1, 3], \n",
    "              [1, 3, 2], \n",
    "              [3, 2, 1]])\n",
    "\n",
    "det_A = round(np.linalg.det(A))\n",
    "print(f\"Determinant of A: {det_A}\")\n",
    "\n",
    "if det_A != 0:\n",
    "    print(\"Matrix A is invertible.\")\n",
    "    A_inv = np.linalg.inv(A)\n",
    "    print(A_inv)\n",
    "else:\n",
    "    print(\"Matrix A is not invertible.\")\n"
   ]
  },
  {
   "cell_type": "markdown",
   "metadata": {},
   "source": [
    "# Eigenvalues and Eigenvectors  "
   ]
  },
  {
   "cell_type": "code",
   "execution_count": 14,
   "metadata": {},
   "outputs": [
    {
     "name": "stdout",
     "output_type": "stream",
     "text": [
      "Eigenvalues:\n",
      "[3. 2.]\n",
      "Eigenvectors:\n",
      "[[ 0.70710678 -0.4472136 ]\n",
      " [-0.70710678  0.89442719]]\n"
     ]
    }
   ],
   "source": [
    "CC = np.array([[4, 1], \n",
    "              [-2, 1]])\n",
    "\n",
    "eigenvalues, eigenvectors = np.linalg.eig(CC)\n",
    "\n",
    "print(\"Eigenvalues:\")\n",
    "print(eigenvalues)\n",
    "\n",
    "print(\"Eigenvectors:\")\n",
    "print(eigenvectors)"
   ]
  },
  {
   "cell_type": "markdown",
   "metadata": {},
   "source": [
    "# 4"
   ]
  },
  {
   "cell_type": "markdown",
   "metadata": {},
   "source": [
    "used np.linalg.pinv(X.T @ X), which computes the pseudoinverse instead of the standard inverse. this handles if matrix is singular or nearly singular"
   ]
  },
  {
   "cell_type": "code",
   "execution_count": 16,
   "metadata": {},
   "outputs": [
    {
     "name": "stdout",
     "output_type": "stream",
     "text": [
      "The price of car 3 is: 40.00\n"
     ]
    }
   ],
   "source": [
    "X = np.array([\n",
    "    [1, 4, 1.5, 100],\n",
    "    [1, 6, 2.0, 150]\n",
    "])\n",
    "y = np.array([20, 30])\n",
    "beta = np.linalg.pinv(X.T @ X) @ X.T @ y\n",
    "car3 = np.array([1, 8, 3.0, 200])\n",
    "price_car3 = car3 @ beta\n",
    "print(f\"The price of car 3 is: {price_car3:.2f}\")"
   ]
  }
 ],
 "metadata": {
  "kernelspec": {
   "display_name": "Python 3",
   "language": "python",
   "name": "python3"
  },
  "language_info": {
   "codemirror_mode": {
    "name": "ipython",
    "version": 3
   },
   "file_extension": ".py",
   "mimetype": "text/x-python",
   "name": "python",
   "nbconvert_exporter": "python",
   "pygments_lexer": "ipython3",
   "version": "3.12.1"
  }
 },
 "nbformat": 4,
 "nbformat_minor": 2
}
